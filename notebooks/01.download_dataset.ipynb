{
 "cells": [
  {
   "cell_type": "code",
   "execution_count": 1,
   "metadata": {},
   "outputs": [],
   "source": [
    "import numpy as np"
   ]
  },
  {
   "cell_type": "code",
   "execution_count": 2,
   "metadata": {},
   "outputs": [],
   "source": [
    "import json\n",
    "with open('../artifacts/kaggle.json','r') as file:\n",
    "    data=json.load(file)"
   ]
  },
  {
   "cell_type": "code",
   "execution_count": 3,
   "metadata": {},
   "outputs": [
    {
     "data": {
      "text/plain": [
       "{'username': 'lnksampath', 'key': '72f07eeda0f2de6abd1c97e98d7fa890'}"
      ]
     },
     "execution_count": 3,
     "metadata": {},
     "output_type": "execute_result"
    }
   ],
   "source": [
    "data"
   ]
  },
  {
   "cell_type": "code",
   "execution_count": 4,
   "metadata": {},
   "outputs": [
    {
     "name": "stdout",
     "output_type": "stream",
     "text": [
      "Requirement already satisfied: kaggle in c:\\users\\programmerx\\desktop\\sentiment_analysis_project\\myenv\\lib\\site-packages (1.7.4.5)\n",
      "Requirement already satisfied: text-unidecode in c:\\users\\programmerx\\desktop\\sentiment_analysis_project\\myenv\\lib\\site-packages (from kaggle) (1.3)\n",
      "Requirement already satisfied: certifi>=14.05.14 in c:\\users\\programmerx\\desktop\\sentiment_analysis_project\\myenv\\lib\\site-packages (from kaggle) (2025.6.15)\n",
      "Requirement already satisfied: python-dateutil>=2.5.3 in c:\\users\\programmerx\\desktop\\sentiment_analysis_project\\myenv\\lib\\site-packages (from kaggle) (2.9.0.post0)\n",
      "Requirement already satisfied: idna in c:\\users\\programmerx\\desktop\\sentiment_analysis_project\\myenv\\lib\\site-packages (from kaggle) (3.10)\n",
      "Requirement already satisfied: protobuf in c:\\users\\programmerx\\desktop\\sentiment_analysis_project\\myenv\\lib\\site-packages (from kaggle) (5.29.5)\n",
      "Requirement already satisfied: bleach in c:\\users\\programmerx\\desktop\\sentiment_analysis_project\\myenv\\lib\\site-packages (from kaggle) (6.1.0)\n",
      "Requirement already satisfied: setuptools>=21.0.0 in c:\\users\\programmerx\\desktop\\sentiment_analysis_project\\myenv\\lib\\site-packages (from kaggle) (47.1.0)\n",
      "Requirement already satisfied: urllib3>=1.15.1 in c:\\users\\programmerx\\desktop\\sentiment_analysis_project\\myenv\\lib\\site-packages (from kaggle) (2.2.3)\n",
      "Requirement already satisfied: requests in c:\\users\\programmerx\\desktop\\sentiment_analysis_project\\myenv\\lib\\site-packages (from kaggle) (2.32.4)\n",
      "Requirement already satisfied: six>=1.10 in c:\\users\\programmerx\\desktop\\sentiment_analysis_project\\myenv\\lib\\site-packages (from kaggle) (1.17.0)\n",
      "Requirement already satisfied: tqdm in c:\\users\\programmerx\\desktop\\sentiment_analysis_project\\myenv\\lib\\site-packages (from kaggle) (4.67.1)\n",
      "Requirement already satisfied: python-slugify in c:\\users\\programmerx\\desktop\\sentiment_analysis_project\\myenv\\lib\\site-packages (from kaggle) (8.0.4)\n",
      "Requirement already satisfied: webencodings in c:\\users\\programmerx\\desktop\\sentiment_analysis_project\\myenv\\lib\\site-packages (from kaggle) (0.5.1)\n",
      "Requirement already satisfied: charset-normalizer in c:\\users\\programmerx\\desktop\\sentiment_analysis_project\\myenv\\lib\\site-packages (from kaggle) (3.4.2)\n",
      "Requirement already satisfied: colorama; platform_system == \"Windows\" in c:\\users\\programmerx\\desktop\\sentiment_analysis_project\\myenv\\lib\\site-packages (from tqdm->kaggle) (0.4.6)\n"
     ]
    },
    {
     "name": "stderr",
     "output_type": "stream",
     "text": [
      "WARNING: You are using pip version 20.1.1; however, version 25.0.1 is available.\n",
      "You should consider upgrading via the 'c:\\users\\programmerx\\desktop\\sentiment_analysis_project\\myenv\\scripts\\python.exe -m pip install --upgrade pip' command.\n"
     ]
    }
   ],
   "source": [
    "!pip install kaggle"
   ]
  },
  {
   "cell_type": "code",
   "execution_count": 5,
   "metadata": {},
   "outputs": [],
   "source": [
    "import os\n",
    "\n",
    "os.environ['KAGGLE_USERNAME']=data['username']\n",
    "os.environ['KAGGLE_KEY']=data['key']"
   ]
  },
  {
   "cell_type": "code",
   "execution_count": 6,
   "metadata": {},
   "outputs": [
    {
     "name": "stdout",
     "output_type": "stream",
     "text": [
      "C:\\Users\\ProgrammerX\\anaconda3\\python.exe\n"
     ]
    }
   ],
   "source": [
    "import sys\n",
    "print(sys.executable)"
   ]
  },
  {
   "cell_type": "code",
   "execution_count": 7,
   "metadata": {},
   "outputs": [
    {
     "name": "stdout",
     "output_type": "stream",
     "text": [
      "Requirement already satisfied: kaggle in c:\\users\\programmerx\\desktop\\sentiment_analysis_project\\myenv\\lib\\site-packages (1.7.4.5)\n",
      "Requirement already satisfied: webencodings in c:\\users\\programmerx\\desktop\\sentiment_analysis_project\\myenv\\lib\\site-packages (from kaggle) (0.5.1)\n",
      "Requirement already satisfied: setuptools>=21.0.0 in c:\\users\\programmerx\\desktop\\sentiment_analysis_project\\myenv\\lib\\site-packages (from kaggle) (47.1.0)\n",
      "Requirement already satisfied: requests in c:\\users\\programmerx\\desktop\\sentiment_analysis_project\\myenv\\lib\\site-packages (from kaggle) (2.32.4)\n",
      "Requirement already satisfied: idna in c:\\users\\programmerx\\desktop\\sentiment_analysis_project\\myenv\\lib\\site-packages (from kaggle) (3.10)\n",
      "Requirement already satisfied: python-slugify in c:\\users\\programmerx\\desktop\\sentiment_analysis_project\\myenv\\lib\\site-packages (from kaggle) (8.0.4)\n",
      "Requirement already satisfied: charset-normalizer in c:\\users\\programmerx\\desktop\\sentiment_analysis_project\\myenv\\lib\\site-packages (from kaggle) (3.4.2)\n",
      "Requirement already satisfied: bleach in c:\\users\\programmerx\\desktop\\sentiment_analysis_project\\myenv\\lib\\site-packages (from kaggle) (6.1.0)\n",
      "Requirement already satisfied: certifi>=14.05.14 in c:\\users\\programmerx\\desktop\\sentiment_analysis_project\\myenv\\lib\\site-packages (from kaggle) (2025.6.15)\n",
      "Requirement already satisfied: text-unidecode in c:\\users\\programmerx\\desktop\\sentiment_analysis_project\\myenv\\lib\\site-packages (from kaggle) (1.3)\n",
      "Requirement already satisfied: tqdm in c:\\users\\programmerx\\desktop\\sentiment_analysis_project\\myenv\\lib\\site-packages (from kaggle) (4.67.1)\n",
      "Requirement already satisfied: urllib3>=1.15.1 in c:\\users\\programmerx\\desktop\\sentiment_analysis_project\\myenv\\lib\\site-packages (from kaggle) (2.2.3)\n",
      "Requirement already satisfied: python-dateutil>=2.5.3 in c:\\users\\programmerx\\desktop\\sentiment_analysis_project\\myenv\\lib\\site-packages (from kaggle) (2.9.0.post0)\n",
      "Requirement already satisfied: six>=1.10 in c:\\users\\programmerx\\desktop\\sentiment_analysis_project\\myenv\\lib\\site-packages (from kaggle) (1.17.0)\n",
      "Requirement already satisfied: protobuf in c:\\users\\programmerx\\desktop\\sentiment_analysis_project\\myenv\\lib\\site-packages (from kaggle) (5.29.5)\n",
      "Requirement already satisfied: colorama; platform_system == \"Windows\" in c:\\users\\programmerx\\desktop\\sentiment_analysis_project\\myenv\\lib\\site-packages (from tqdm->kaggle) (0.4.6)\n"
     ]
    },
    {
     "name": "stderr",
     "output_type": "stream",
     "text": [
      "WARNING: You are using pip version 20.1.1; however, version 25.0.1 is available.\n",
      "You should consider upgrading via the 'c:\\users\\programmerx\\desktop\\sentiment_analysis_project\\myenv\\scripts\\python.exe -m pip install --upgrade pip' command.\n"
     ]
    }
   ],
   "source": [
    "!pip install kaggle\n"
   ]
  },
  {
   "cell_type": "code",
   "execution_count": 10,
   "metadata": {},
   "outputs": [],
   "source": [
    "from kaggle.api.kaggle_api_extended import KaggleApi\n",
    "\n",
    "api = KaggleApi()\n",
    "api.authenticate()\n"
   ]
  },
  {
   "cell_type": "code",
   "execution_count": 13,
   "metadata": {},
   "outputs": [
    {
     "name": "stdout",
     "output_type": "stream",
     "text": [
      "Dataset URL: https://www.kaggle.com/datasets/dineshpiyasamara/sentiment-analysis-dataset\n"
     ]
    }
   ],
   "source": [
    "api.dataset_download_files('dineshpiyasamara/sentiment-analysis-dataset', path='../artifacts/')"
   ]
  },
  {
   "cell_type": "code",
   "execution_count": 16,
   "metadata": {},
   "outputs": [],
   "source": [
    "import zipfile\n",
    "\n",
    "with zipfile.ZipFile('../artifacts/sentiment-analysis-dataset.zip', 'r') as zip_ref:\n",
    "    zip_ref.extractall('../artifacts/')\n"
   ]
  },
  {
   "cell_type": "code",
   "execution_count": null,
   "metadata": {},
   "outputs": [],
   "source": []
  }
 ],
 "metadata": {
  "kernelspec": {
   "display_name": "Python 3 (ipykernel)",
   "language": "python",
   "name": "python3"
  },
  "language_info": {
   "codemirror_mode": {
    "name": "ipython",
    "version": 3
   },
   "file_extension": ".py",
   "mimetype": "text/x-python",
   "name": "python",
   "nbconvert_exporter": "python",
   "pygments_lexer": "ipython3",
   "version": "3.12.7"
  }
 },
 "nbformat": 4,
 "nbformat_minor": 4
}
